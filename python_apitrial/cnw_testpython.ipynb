{
 "cells": [
  {
   "cell_type": "code",
   "execution_count": 2,
   "metadata": {},
   "outputs": [
    {
     "name": "stderr",
     "output_type": "stream",
     "text": [
      "OpenJDK 64-Bit Server VM warning: Archived non-system classes are disabled because the java.system.class.loader property is specified (value = \"org.update4j.DynamicClassLoader\"). To use archived non-system classes, this property must be not be set\n",
      "ERROR StatusLogger No log4j2 configuration file found. Using default configuration: logging only errors to the console. Set system property 'org.apache.logging.log4j.simplelog.StatusLogger.level' to TRACE to show Log4j2 internal initialization logging.\n"
     ]
    },
    {
     "ename": "NameError",
     "evalue": "input file: net.sf.jasperreports.engine.JRException: java.io.FileNotFoundException: /data/cnwls/cnw_invar/tf.jrxml (No such file or directory) is not a valid jrxml file:",
     "output_type": "error",
     "traceback": [
      "\u001b[0;31m---------------------------------------------------------------------------\u001b[0m",
      "\u001b[0;31mjava.io.FileNotFoundException\u001b[0m             Traceback (most recent call last)",
      "File \u001b[0;32mJRXmlLoader.java:186\u001b[0m, in \u001b[0;36mnet.sf.jasperreports.engine.xml.JRXmlLoader.load\u001b[0;34m()\u001b[0m\n",
      "\u001b[0;31mjava.io.FileNotFoundException\u001b[0m: java.io.FileNotFoundException: /data/cnwls/cnw_invar/tf.jrxml (No such file or directory)",
      "\nThe above exception was the direct cause of the following exception:\n",
      "\u001b[0;31mException\u001b[0m                                 Traceback (most recent call last)",
      "File \u001b[0;32mJRXmlLoader.java:186\u001b[0m, in \u001b[0;36mnet.sf.jasperreports.engine.xml.JRXmlLoader.load\u001b[0;34m()\u001b[0m\n",
      "\u001b[0;31mException\u001b[0m: Java Exception",
      "\nThe above exception was the direct cause of the following exception:\n",
      "\u001b[0;31mnet.sf.jasperreports.engine.JRException\u001b[0m   Traceback (most recent call last)",
      "File \u001b[0;32m~/.local/lib/python3.8/site-packages/pyreportjasper/report.py:131\u001b[0m, in \u001b[0;36mReport.__init__\u001b[0;34m(self, config, input_file)\u001b[0m\n\u001b[1;32m    130\u001b[0m \u001b[39mtry\u001b[39;00m:\n\u001b[0;32m--> 131\u001b[0m     \u001b[39mself\u001b[39m\u001b[39m.\u001b[39mjasper_design \u001b[39m=\u001b[39m \u001b[39mself\u001b[39;49m\u001b[39m.\u001b[39;49mJRXmlLoader\u001b[39m.\u001b[39;49mload(input_file)\n\u001b[1;32m    132\u001b[0m     \u001b[39mself\u001b[39m\u001b[39m.\u001b[39minitial_input_type \u001b[39m=\u001b[39m \u001b[39m'\u001b[39m\u001b[39mJASPER_DESIGN\u001b[39m\u001b[39m'\u001b[39m\n",
      "\u001b[0;31mnet.sf.jasperreports.engine.JRException\u001b[0m: net.sf.jasperreports.engine.JRException: java.io.FileNotFoundException: /data/cnwls/cnw_invar/tf.jrxml (No such file or directory)",
      "\nDuring handling of the above exception, another exception occurred:\n",
      "\u001b[0;31mNameError\u001b[0m                                 Traceback (most recent call last)",
      "Cell \u001b[0;32mIn[2], line 15\u001b[0m\n\u001b[1;32m     13\u001b[0m config\u001b[39m.\u001b[39mdbType \u001b[39m=\u001b[39m \u001b[39m'\u001b[39m\u001b[39mjson\u001b[39m\u001b[39m'\u001b[39m\n\u001b[1;32m     14\u001b[0m config\u001b[39m.\u001b[39mjsonQuery \u001b[39m=\u001b[39m \u001b[39m'\u001b[39m\u001b[39m'\u001b[39m\n\u001b[0;32m---> 15\u001b[0m instance \u001b[39m=\u001b[39m Report(config, config\u001b[39m.\u001b[39;49minput)\n\u001b[1;32m     16\u001b[0m instance\u001b[39m.\u001b[39mfill()\n\u001b[1;32m     17\u001b[0m instance\u001b[39m.\u001b[39mexport_pdf()\n",
      "File \u001b[0;32m~/.local/lib/python3.8/site-packages/pyreportjasper/report.py:135\u001b[0m, in \u001b[0;36mReport.__init__\u001b[0;34m(self, config, input_file)\u001b[0m\n\u001b[1;32m    133\u001b[0m     \u001b[39mself\u001b[39m\u001b[39m.\u001b[39mcompile()\n\u001b[1;32m    134\u001b[0m \u001b[39mexcept\u001b[39;00m \u001b[39mException\u001b[39;00m \u001b[39mas\u001b[39;00m ex:\n\u001b[0;32m--> 135\u001b[0m     \u001b[39mraise\u001b[39;00m \u001b[39mNameError\u001b[39;00m(\u001b[39m'\u001b[39m\u001b[39minput file: \u001b[39m\u001b[39m{0}\u001b[39;00m\u001b[39m is not a valid jrxml file:\u001b[39m\u001b[39m'\u001b[39m\u001b[39m.\u001b[39mformat(\u001b[39mstr\u001b[39m(ex)))\n",
      "\u001b[0;31mNameError\u001b[0m: input file: net.sf.jasperreports.engine.JRException: java.io.FileNotFoundException: /data/cnwls/cnw_invar/tf.jrxml (No such file or directory) is not a valid jrxml file:"
     ]
    }
   ],
   "source": [
    "import os\n",
    "from pyreportjasper.config import Config\n",
    "from pyreportjasper.report import Report\n",
    "\n",
    "\n",
    "RESOURCES_DIR = os.path.abspath(os.path.dirname(\"/data/cnwls/cnw_invar/python_apitrial/\"))\n",
    "\n",
    "config = Config()\n",
    "config.input = os.path.join(RESOURCES_DIR, 'tf.jrxml')\n",
    "config.output = os.path.join(RESOURCES_DIR, 'json')\n",
    "config.dataFile = os.path.join(RESOURCES_DIR, 'data.json')\n",
    "config.jvm_maxmem = '512M'  # Define here the maximum memory that the jvm can use. Default 512 MB\n",
    "config.dbType = 'json'\n",
    "config.jsonQuery = ''\n",
    "instance = Report(config, config.input)\n",
    "instance.fill()\n",
    "instance.export_pdf()\n",
    "\n",
    "print('#' * 150)\n",
    "print('Result is the file below.')\n",
    "print(config.output + '.pdf')\n",
    "\n",
    " \n"
   ]
  }
 ],
 "metadata": {
  "kernelspec": {
   "display_name": "Python 3",
   "language": "python",
   "name": "python3"
  },
  "language_info": {
   "codemirror_mode": {
    "name": "ipython",
    "version": 3
   },
   "file_extension": ".py",
   "mimetype": "text/x-python",
   "name": "python",
   "nbconvert_exporter": "python",
   "pygments_lexer": "ipython3",
   "version": "3.8.10"
  },
  "orig_nbformat": 4
 },
 "nbformat": 4,
 "nbformat_minor": 2
}
