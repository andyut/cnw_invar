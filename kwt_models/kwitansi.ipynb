{
 "cells": [
  {
   "cell_type": "code",
   "execution_count": 10,
   "metadata": {},
   "outputs": [
    {
     "name": "stdout",
     "output_type": "stream",
     "text": [
      "Loading pages (1/6)\n",
      "Counting pages (2/6)                                               \n",
      "Resolving links (4/6)                                                       \n",
      "Loading headers and footers (5/6)                                           \n",
      "Printing pages (6/6)\n",
      "Done                                                                      \n"
     ]
    },
    {
     "data": {
      "text/plain": [
       "True"
      ]
     },
     "execution_count": 10,
     "metadata": {},
     "output_type": "execute_result"
    }
   ],
   "source": [
    "import pandas as pd\n",
    "import pandas.io.sql\n",
    "import psycopg2 as pg \n",
    "import numpy as np\n",
    "from jinja2 import Environment, FileSystemLoader\n",
    "import pdfkit\n",
    "import pytz\n",
    "from datetime import datetime\n",
    "from IPython.core.display import HTML\n",
    "\n",
    "filenamepdf     = \"/data/jupyther/kwitansi.pdf\"\n",
    "options         = { 'page-size':'A5' , \n",
    "                    'orientation': 'Landscape',\n",
    "                    }\n",
    "env             = Environment(loader=FileSystemLoader('/data/jupyther'))\n",
    "template        = env.get_template(\"kwitansi.html\")            \n",
    "template_var    = { \"company\":\"Indoguna Utama\", \n",
    "                    \"cardcode\" :\"GR0011\",\n",
    "                    \"cardname\" :\"CV PASAR TANI INDOGUNA\", \n",
    "                    \"kwt_no\":\"SS201000050\",\n",
    "                    \"terbilang\" : \"Satu Juta sembilan ratus Ribu Rupiah\",  \n",
    "                    \"datetime\" : datetime.now(pytz.timezone('Asia/Jakarta')).strftime(\"%Y-%m-%d %H:%M:%S\") , \n",
    "                    \"remarks\" :\"Pembelian abc DC\" , \n",
    "                    \"amount\" :1900000,  \n",
    "                    \"transferto\" :\"Bank Central Asia (BCA) : No 2303000704\" , \n",
    "                    \"arperson\" :\"MARIANNE\" , \n",
    "                    \"spv_ttd\" :\"FAUZIA\" , \n",
    "                    \"invoiceso1\" :\"PERINCIAN TERLAMPIR\" , \n",
    "                    \"invoiceint1\" :\"\" , \n",
    "                    \"invoicetotal1\" :\"\" ,\n",
    "                    \"invoiceso2\" :\"\" , \n",
    "                    \"invoiceint2\" :\"\" , \n",
    "                    \"invoicetotal2\" :\"\" , \n",
    "                    \"invoiceso3\" :\"\" , \n",
    "                    \"invoiceint3\" :\"\" , \n",
    "                    \"invoicetotal3\" :\"\" , \n",
    "                    \"docdate\":\"2020-10-02\", }\n",
    "\n",
    "html_out        = template.render(template_var)\n",
    "pdfkit.from_string(html_out,filenamepdf,options=options) \n"
   ]
  }
 ],
 "metadata": {
  "kernelspec": {
   "display_name": "Python 3",
   "language": "python",
   "name": "python3"
  },
  "language_info": {
   "codemirror_mode": {
    "name": "ipython",
    "version": 3
   },
   "file_extension": ".py",
   "mimetype": "text/x-python",
   "name": "python",
   "nbconvert_exporter": "python",
   "pygments_lexer": "ipython3",
   "version": "3.6.9"
  }
 },
 "nbformat": 4,
 "nbformat_minor": 4
}
